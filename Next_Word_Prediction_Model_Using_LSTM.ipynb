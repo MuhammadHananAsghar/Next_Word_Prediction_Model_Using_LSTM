{
  "nbformat": 4,
  "nbformat_minor": 0,
  "metadata": {
    "colab": {
      "name": "Next Word Prediction Model Using LSTM.ipynb",
      "provenance": [],
      "collapsed_sections": []
    },
    "kernelspec": {
      "name": "python3",
      "display_name": "Python 3"
    },
    "accelerator": "GPU"
  },
  "cells": [
    {
      "cell_type": "markdown",
      "metadata": {
        "id": "9DgBNuV9yOnM"
      },
      "source": [
        "#**Implemented By Muhammad Hanan Asghar**"
      ]
    },
    {
      "cell_type": "markdown",
      "metadata": {
        "id": "Oq1cZFfpMVHz"
      },
      "source": [
        "#**Loading Data And Preprocessing**"
      ]
    },
    {
      "cell_type": "markdown",
      "metadata": {
        "id": "fh2Xv_UVqJ2Z"
      },
      "source": [
        "I am using a simple Eassy on Nature\n",
        "Source Link: https://www.toppr.com/guides/essays/nature-essay/"
      ]
    },
    {
      "cell_type": "code",
      "metadata": {
        "id": "U3bMQkczpT6A"
      },
      "source": [
        "data = \"\"\"\n",
        "Nature is an important and integral part of mankind.\\n\n",
        "It is one of the greatest blessings for human life; \\n\n",
        "however, nowadays humans fail to recognize it as one. \\n\n",
        "Nature has been an inspiration for numerous poets, writers, artists \\n\n",
        "and more of yesteryears. This remarkable creation inspired them to write\\n\n",
        "poems and stories in the glory of it. They truly valued nature which reflects\\n\n",
        "in their works even today. Essentially, nature is everything we are surrounded\\n\n",
        "by like the water we drink, the air we breathe, the sun we soak in,\\n\n",
        "the birds we hear chirping, the moon we gaze at and more. Above all,\\n\n",
        "it is rich and vibrant and consists of both living and non-living things.\\n\n",
        "Therefore, people of the modern age should also learn something\\n\n",
        "from people of yesteryear and start valuing nature before it gets too late.\\n\n",
        "Nature has been in existence long before humans and ever since it has taken care of mankind and nourished it forever. In other words, it offers us a protective layer which guards us against all kinds of damages and harms. Survival of mankind without nature is impossible and humans need to understand that.\n",
        "\n",
        "If nature has the ability to protect us, it is also powerful enough to destroy the entire mankind. Every form of nature, for instance, the plants, animals, rivers, mountains, moon, and more holds equal significance for us. Absence of one element is enough to cause a catastrophe in the functioning of human life.\n",
        "\n",
        "We fulfill our healthy lifestyle by eating and drinking healthy, which nature gives us. Similarly, it provides us with water and food that enables us to do so. Rainfall and sunshine, the two most important elements to survive are derived from nature itself.\n",
        "\n",
        "Further, the air we breathe and the wood we use for various purposes are a gift of nature only. But, with technological advancements, people are not paying attention to nature. The need to conserve and balance the natural assets is rising day by day which requires immediate attention.\n",
        "In order to conserve nature, we must take drastic steps right away to prevent any further damage. The most important step is to prevent deforestation at all levels. Cutting down of trees has serious consequences in different spheres. It can cause soil erosion easily and also bring a decline in rainfall on a major level.\n",
        "Polluting ocean water must be strictly prohibited by all industries straightaway as it causes a lot of water shortage. The excessive use of automobiles, AC’s and ovens emit a lot of Chlorofluorocarbons’ which depletes the ozone layer. This, in turn, causes global warming which causes thermal expansion and melting of glaciers.\n",
        "\n",
        "Therefore, we should avoid personal use of the vehicle when we can, switch to public transport and carpooling. We must invest in solar energy giving a chance for the natural resources to replenish.\n",
        "\n",
        "In conclusion, nature has a powerful transformative power which is responsible for the functioning of life on earth. It is essential for mankind to flourish so it is our duty to conserve it for our future generations. We must stop the selfish activities and try our best to preserve the natural resources so life can forever be nourished on earth.\n",
        "\"\"\""
      ],
      "execution_count": 43,
      "outputs": []
    },
    {
      "cell_type": "code",
      "metadata": {
        "colab": {
          "base_uri": "https://localhost:8080/"
        },
        "id": "EX5z13ZGpxm-",
        "outputId": "57b681f4-13b4-4276-823d-f205607c6b1e"
      },
      "source": [
        "print(data)"
      ],
      "execution_count": 44,
      "outputs": [
        {
          "output_type": "stream",
          "text": [
            "\n",
            "Nature is an important and integral part of mankind.\n",
            "\n",
            "It is one of the greatest blessings for human life; \n",
            "\n",
            "however, nowadays humans fail to recognize it as one. \n",
            "\n",
            "Nature has been an inspiration for numerous poets, writers, artists \n",
            "\n",
            "and more of yesteryears. This remarkable creation inspired them to write\n",
            "\n",
            "poems and stories in the glory of it. They truly valued nature which reflects\n",
            "\n",
            "in their works even today. Essentially, nature is everything we are surrounded\n",
            "\n",
            "by like the water we drink, the air we breathe, the sun we soak in,\n",
            "\n",
            "the birds we hear chirping, the moon we gaze at and more. Above all,\n",
            "\n",
            "it is rich and vibrant and consists of both living and non-living things.\n",
            "\n",
            "Therefore, people of the modern age should also learn something\n",
            "\n",
            "from people of yesteryear and start valuing nature before it gets too late.\n",
            "\n",
            "Nature has been in existence long before humans and ever since it has taken care of mankind and nourished it forever. In other words, it offers us a protective layer which guards us against all kinds of damages and harms. Survival of mankind without nature is impossible and humans need to understand that.\n",
            "\n",
            "If nature has the ability to protect us, it is also powerful enough to destroy the entire mankind. Every form of nature, for instance, the plants, animals, rivers, mountains, moon, and more holds equal significance for us. Absence of one element is enough to cause a catastrophe in the functioning of human life.\n",
            "\n",
            "We fulfill our healthy lifestyle by eating and drinking healthy, which nature gives us. Similarly, it provides us with water and food that enables us to do so. Rainfall and sunshine, the two most important elements to survive are derived from nature itself.\n",
            "\n",
            "Further, the air we breathe and the wood we use for various purposes are a gift of nature only. But, with technological advancements, people are not paying attention to nature. The need to conserve and balance the natural assets is rising day by day which requires immediate attention.\n",
            "In order to conserve nature, we must take drastic steps right away to prevent any further damage. The most important step is to prevent deforestation at all levels. Cutting down of trees has serious consequences in different spheres. It can cause soil erosion easily and also bring a decline in rainfall on a major level.\n",
            "Polluting ocean water must be strictly prohibited by all industries straightaway as it causes a lot of water shortage. The excessive use of automobiles, AC’s and ovens emit a lot of Chlorofluorocarbons’ which depletes the ozone layer. This, in turn, causes global warming which causes thermal expansion and melting of glaciers.\n",
            "\n",
            "Therefore, we should avoid personal use of the vehicle when we can, switch to public transport and carpooling. We must invest in solar energy giving a chance for the natural resources to replenish.\n",
            "\n",
            "In conclusion, nature has a powerful transformative power which is responsible for the functioning of life on earth. It is essential for mankind to flourish so it is our duty to conserve it for our future generations. We must stop the selfish activities and try our best to preserve the natural resources so life can forever be nourished on earth.\n",
            "\n"
          ],
          "name": "stdout"
        }
      ]
    },
    {
      "cell_type": "code",
      "metadata": {
        "id": "eARutBLnMRO6"
      },
      "source": [
        "data = data.replace('\\ufeff','').replace('\\n','').replace('\\r','')"
      ],
      "execution_count": 45,
      "outputs": []
    },
    {
      "cell_type": "code",
      "metadata": {
        "colab": {
          "base_uri": "https://localhost:8080/",
          "height": 158
        },
        "id": "mR9pMS_BMkxX",
        "outputId": "1489af64-756d-40ae-c35a-e08c098e7245"
      },
      "source": [
        "data"
      ],
      "execution_count": 46,
      "outputs": [
        {
          "output_type": "execute_result",
          "data": {
            "application/vnd.google.colaboratory.intrinsic+json": {
              "type": "string"
            },
            "text/plain": [
              "'Nature is an important and integral part of mankind.It is one of the greatest blessings for human life; however, nowadays humans fail to recognize it as one. Nature has been an inspiration for numerous poets, writers, artists and more of yesteryears. This remarkable creation inspired them to writepoems and stories in the glory of it. They truly valued nature which reflectsin their works even today. Essentially, nature is everything we are surroundedby like the water we drink, the air we breathe, the sun we soak in,the birds we hear chirping, the moon we gaze at and more. Above all,it is rich and vibrant and consists of both living and non-living things.Therefore, people of the modern age should also learn somethingfrom people of yesteryear and start valuing nature before it gets too late.Nature has been in existence long before humans and ever since it has taken care of mankind and nourished it forever. In other words, it offers us a protective layer which guards us against all kinds of damages and harms. Survival of mankind without nature is impossible and humans need to understand that.If nature has the ability to protect us, it is also powerful enough to destroy the entire mankind. Every form of nature, for instance, the plants, animals, rivers, mountains, moon, and more holds equal significance for us. Absence of one element is enough to cause a catastrophe in the functioning of human life.We fulfill our healthy lifestyle by eating and drinking healthy, which nature gives us. Similarly, it provides us with water and food that enables us to do so. Rainfall and sunshine, the two most important elements to survive are derived from nature itself.Further, the air we breathe and the wood we use for various purposes are a gift of nature only. But, with technological advancements, people are not paying attention to nature. The need to conserve and balance the natural assets is rising day by day which requires immediate attention.In order to conserve nature, we must take drastic steps right away to prevent any further damage. The most important step is to prevent deforestation at all levels. Cutting down of trees has serious consequences in different spheres. It can cause soil erosion easily and also bring a decline in rainfall on a major level.Polluting ocean water must be strictly prohibited by all industries straightaway as it causes a lot of water shortage. The excessive use of automobiles, AC’s and ovens emit a lot of Chlorofluorocarbons’ which depletes the ozone layer. This, in turn, causes global warming which causes thermal expansion and melting of glaciers.Therefore, we should avoid personal use of the vehicle when we can, switch to public transport and carpooling. We must invest in solar energy giving a chance for the natural resources to replenish.In conclusion, nature has a powerful transformative power which is responsible for the functioning of life on earth. It is essential for mankind to flourish so it is our duty to conserve it for our future generations. We must stop the selfish activities and try our best to preserve the natural resources so life can forever be nourished on earth.'"
            ]
          },
          "metadata": {
            "tags": []
          },
          "execution_count": 46
        }
      ]
    },
    {
      "cell_type": "code",
      "metadata": {
        "id": "UP48RTVrMmnX"
      },
      "source": [
        "# For Removing Punctuations\n",
        "import string\n",
        "translator = str.maketrans(string.punctuation, ' '*len(string.punctuation)) #map punctuation to space\n",
        "new_data = data.translate(translator)"
      ],
      "execution_count": 47,
      "outputs": []
    },
    {
      "cell_type": "code",
      "metadata": {
        "colab": {
          "base_uri": "https://localhost:8080/",
          "height": 158
        },
        "id": "kD1wBE7OPzdl",
        "outputId": "7002341f-8327-41ef-a0b0-1322007501e6"
      },
      "source": [
        "new_data"
      ],
      "execution_count": 48,
      "outputs": [
        {
          "output_type": "execute_result",
          "data": {
            "application/vnd.google.colaboratory.intrinsic+json": {
              "type": "string"
            },
            "text/plain": [
              "'Nature is an important and integral part of mankind It is one of the greatest blessings for human life  however  nowadays humans fail to recognize it as one  Nature has been an inspiration for numerous poets  writers  artists and more of yesteryears  This remarkable creation inspired them to writepoems and stories in the glory of it  They truly valued nature which reflectsin their works even today  Essentially  nature is everything we are surroundedby like the water we drink  the air we breathe  the sun we soak in the birds we hear chirping  the moon we gaze at and more  Above all it is rich and vibrant and consists of both living and non living things Therefore  people of the modern age should also learn somethingfrom people of yesteryear and start valuing nature before it gets too late Nature has been in existence long before humans and ever since it has taken care of mankind and nourished it forever  In other words  it offers us a protective layer which guards us against all kinds of damages and harms  Survival of mankind without nature is impossible and humans need to understand that If nature has the ability to protect us  it is also powerful enough to destroy the entire mankind  Every form of nature  for instance  the plants  animals  rivers  mountains  moon  and more holds equal significance for us  Absence of one element is enough to cause a catastrophe in the functioning of human life We fulfill our healthy lifestyle by eating and drinking healthy  which nature gives us  Similarly  it provides us with water and food that enables us to do so  Rainfall and sunshine  the two most important elements to survive are derived from nature itself Further  the air we breathe and the wood we use for various purposes are a gift of nature only  But  with technological advancements  people are not paying attention to nature  The need to conserve and balance the natural assets is rising day by day which requires immediate attention In order to conserve nature  we must take drastic steps right away to prevent any further damage  The most important step is to prevent deforestation at all levels  Cutting down of trees has serious consequences in different spheres  It can cause soil erosion easily and also bring a decline in rainfall on a major level Polluting ocean water must be strictly prohibited by all industries straightaway as it causes a lot of water shortage  The excessive use of automobiles  AC’s and ovens emit a lot of Chlorofluorocarbons’ which depletes the ozone layer  This  in turn  causes global warming which causes thermal expansion and melting of glaciers Therefore  we should avoid personal use of the vehicle when we can  switch to public transport and carpooling  We must invest in solar energy giving a chance for the natural resources to replenish In conclusion  nature has a powerful transformative power which is responsible for the functioning of life on earth  It is essential for mankind to flourish so it is our duty to conserve it for our future generations  We must stop the selfish activities and try our best to preserve the natural resources so life can forever be nourished on earth '"
            ]
          },
          "metadata": {
            "tags": []
          },
          "execution_count": 48
        }
      ]
    },
    {
      "cell_type": "code",
      "metadata": {
        "id": "nSphYjwVQZoI"
      },
      "source": [
        "import tensorflow\n",
        "from tensorflow.keras.preprocessing.text import Tokenizer\n",
        "import pickle"
      ],
      "execution_count": 49,
      "outputs": []
    },
    {
      "cell_type": "code",
      "metadata": {
        "id": "f9fM4wKyQHlL"
      },
      "source": [
        "tokenizer = Tokenizer()\n",
        "tokenizer.fit_on_texts([new_data])\n",
        "\n",
        "# saving the tokenizer for predict function.\n",
        "pickle.dump(tokenizer, open('tokenized_data.pkl', 'wb'))"
      ],
      "execution_count": 50,
      "outputs": []
    },
    {
      "cell_type": "code",
      "metadata": {
        "colab": {
          "base_uri": "https://localhost:8080/"
        },
        "id": "x77c4sklQrEf",
        "outputId": "604442af-05de-49ff-9dbd-073336c88c46"
      },
      "source": [
        "tokenizer"
      ],
      "execution_count": 51,
      "outputs": [
        {
          "output_type": "execute_result",
          "data": {
            "text/plain": [
              "<keras_preprocessing.text.Tokenizer at 0x7f55e614f978>"
            ]
          },
          "metadata": {
            "tags": []
          },
          "execution_count": 51
        }
      ]
    },
    {
      "cell_type": "markdown",
      "metadata": {
        "id": "bhKmIYtVQ2Bx"
      },
      "source": [
        "#**What is Tokenization in NLP?**\n",
        "\n",
        "Tokenization is essentially splitting a phrase, sentence, paragraph, or an entire text document into smaller units, such as individual words or terms. Each of these smaller units are called tokens."
      ]
    },
    {
      "cell_type": "markdown",
      "metadata": {
        "id": "81fWJPOtRNL-"
      },
      "source": [
        "#**Sequences**\n",
        "\n",
        "basically it means to convert words or text data into integers."
      ]
    },
    {
      "cell_type": "code",
      "metadata": {
        "id": "3G7SmzWxRMXl"
      },
      "source": [
        "sequence_data = tokenizer.texts_to_sequences([new_data])[0]\n",
        "vocab_size = len(tokenizer.word_index) + 1"
      ],
      "execution_count": 52,
      "outputs": []
    },
    {
      "cell_type": "code",
      "metadata": {
        "colab": {
          "base_uri": "https://localhost:8080/"
        },
        "id": "opu1v-qeQwbU",
        "outputId": "6bd263b6-5d85-45ea-dca6-856e3f8cf897"
      },
      "source": [
        "print(\"Sequences Size:\",len(sequence_data))\n",
        "print(\"Vocabulary Size:\",vocab_size)"
      ],
      "execution_count": 53,
      "outputs": [
        {
          "output_type": "stream",
          "text": [
            "Sequences Size: 533\n",
            "Vocabulary Size: 272\n"
          ],
          "name": "stdout"
        }
      ]
    },
    {
      "cell_type": "markdown",
      "metadata": {
        "id": "N-ojsDHhd_UL"
      },
      "source": [
        "Means One Word is Input and Other Word is Output"
      ]
    },
    {
      "cell_type": "code",
      "metadata": {
        "id": "0GUS3ghFRcS_"
      },
      "source": [
        "sequences = []\n",
        "for i in range(1, len(sequence_data)):\n",
        "  words = sequence_data[i - 1 : i + 1]\n",
        "  sequences.append(words)"
      ],
      "execution_count": 54,
      "outputs": []
    },
    {
      "cell_type": "code",
      "metadata": {
        "colab": {
          "base_uri": "https://localhost:8080/"
        },
        "id": "YxOQGIJNcowp",
        "outputId": "dce6ba6d-4575-477c-ffe7-b879c8bfb595"
      },
      "source": [
        "print(\"Total Sequences:\",len(sequences))"
      ],
      "execution_count": 55,
      "outputs": [
        {
          "output_type": "stream",
          "text": [
            "Total Sequences: 532\n"
          ],
          "name": "stdout"
        }
      ]
    },
    {
      "cell_type": "code",
      "metadata": {
        "id": "ti-TltK-R_ke"
      },
      "source": [
        "import numpy as np\n",
        "sequences = np.array(sequences)"
      ],
      "execution_count": 56,
      "outputs": []
    },
    {
      "cell_type": "code",
      "metadata": {
        "id": "ccLkr-NdSV8J"
      },
      "source": [
        "X, Y = sequences[:, 0], sequences[:, 1]"
      ],
      "execution_count": 57,
      "outputs": []
    },
    {
      "cell_type": "code",
      "metadata": {
        "id": "X-TMb4hcSaIn"
      },
      "source": [
        "X = np.array(X)\n",
        "Y = np.array(Y)"
      ],
      "execution_count": 58,
      "outputs": []
    },
    {
      "cell_type": "code",
      "metadata": {
        "id": "-ojCWODnSecZ"
      },
      "source": [
        "from tensorflow.keras.utils import to_categorical"
      ],
      "execution_count": 59,
      "outputs": []
    },
    {
      "cell_type": "code",
      "metadata": {
        "colab": {
          "base_uri": "https://localhost:8080/"
        },
        "id": "8HMIZPoyeUKo",
        "outputId": "d7e13105-67c4-492f-9f8a-0c788e9204c5"
      },
      "source": [
        "X"
      ],
      "execution_count": 60,
      "outputs": [
        {
          "output_type": "execute_result",
          "data": {
            "text/plain": [
              "array([  5,   8,  36,  22,   2,  70,  71,   3,  15,   6,   8,  23,   3,\n",
              "         1,  72,  73,  10,  37,  16,  74,  75,  24,  76,   4,  77,   6,\n",
              "        38,  23,   5,  14,  39,  36,  78,  10,  79,  80,  81,  82,   2,\n",
              "        25,   3,  83,  40,  84,  85,  86,  87,   4,  88,   2,  89,   9,\n",
              "         1,  90,   3,   6,  91,  92,  93,   5,  12,  94,  95,  96,  97,\n",
              "        98,  99,   5,   8, 100,   7,  17, 101, 102,   1,  18,   7, 103,\n",
              "         1,  41,   7,  42,   1, 104,   7, 105,   9,   1, 106,   7, 107,\n",
              "       108,   1,  43,   7, 109,  44,   2,  25, 110,  19,   6,   8, 111,\n",
              "         2, 112,   2, 113,   3, 114,  45,   2, 115,  45, 116,  46,  26,\n",
              "         3,   1, 117, 118,  47,  27, 119, 120,  26,   3, 121,   2, 122,\n",
              "       123,   5,  48,   6, 124, 125, 126,   5,  14,  39,   9, 127, 128,\n",
              "        48,  24,   2, 129, 130,   6,  14, 131, 132,   3,  15,   2,  49,\n",
              "         6,  50,   9, 133, 134,   6, 135,  13,  11, 136,  51,  12, 137,\n",
              "        13, 138,  19, 139,   3, 140,   2, 141, 142,   3,  15, 143,   5,\n",
              "         8, 144,   2,  24,  52,   4, 145,  53, 146,   5,  14,   1, 147,\n",
              "         4, 148,  13,   6,   8,  27,  54,  55,   4, 149,   1, 150,  15,\n",
              "       151, 152,   3,   5,  10, 153,   1, 154, 155, 156, 157,  43,   2,\n",
              "        25, 158, 159, 160,  10,  13, 161,   3,  23, 162,   8,  55,   4,\n",
              "        56,  11, 163,   9,   1,  57,   3,  37,  16,   7, 164,  20,  58,\n",
              "       165,  28, 166,   2, 167,  58,  12,   5, 168,  13, 169,   6, 170,\n",
              "        13,  59,  18,   2, 171,  53, 172,  13,   4, 173,  29,  60,   2,\n",
              "       174,   1, 175,  61,  22, 176,   4, 177,  17, 178, 179,   5, 180,\n",
              "        62,   1,  41,   7,  42,   2,   1, 181,   7,  30,  10, 182, 183,\n",
              "        17,  11, 184,   3,   5, 185, 186,  59, 187, 188,  26,  17, 189,\n",
              "       190,  63,   4,   5,   1,  52,   4,  31,   2, 191,   1,  32, 192,\n",
              "         8, 193,  64,  28,  64,  12, 194, 195,  63,   9, 196,   4,  31,\n",
              "         5,   7,  21, 197, 198, 199, 200, 201,   4,  65, 202,  62, 203,\n",
              "         1,  61,  22, 204,   8,   4,  65, 205,  44,  19, 206, 207, 208,\n",
              "         3, 209,  14, 210, 211,   9, 212, 213,   6,  33,  56, 214, 215,\n",
              "       216,   2,  27, 217,  11, 218,   9,  60,  34,  11, 219, 220, 221,\n",
              "       222,  18,  21,  66, 223, 224,  28,  19, 225, 226,  38,   6,  35,\n",
              "        11,  67,   3,  18, 227,   1, 228,  30,   3, 229, 230,   2, 231,\n",
              "       232,  11,  67,   3, 233,  12, 234,   1, 235,  51,  40,   9, 236,\n",
              "        35, 237, 238,  12,  35, 239, 240,   2, 241,   3, 242,  46,   7,\n",
              "        47, 243, 244,  30,   3,   1, 245, 246,   7,  33, 247,   4, 248,\n",
              "       249,   2, 250,   7,  21, 251,   9, 252, 253, 254,  11, 255,  10,\n",
              "         1,  32,  68,   4, 256,   9, 257,   5,  14,  11,  54, 258, 259,\n",
              "        12,   8, 260,  10,   1,  57,   3,  16,  34,  69,   6,   8, 261,\n",
              "        10,  15,   4, 262,  29,   6,   8,  20, 263,   4,  31,   6,  10,\n",
              "        20, 264, 265,   7,  21, 266,   1, 267, 268,   2, 269,  20, 270,\n",
              "         4, 271,   1,  32,  68,  29,  16,  33,  50,  66,  49,  34])"
            ]
          },
          "metadata": {
            "tags": []
          },
          "execution_count": 60
        }
      ]
    },
    {
      "cell_type": "code",
      "metadata": {
        "colab": {
          "base_uri": "https://localhost:8080/"
        },
        "id": "s7INh7gDSl8H",
        "outputId": "49c4ffef-501c-450a-d7b4-e440f119e968"
      },
      "source": [
        "Y"
      ],
      "execution_count": 61,
      "outputs": [
        {
          "output_type": "execute_result",
          "data": {
            "text/plain": [
              "array([  8,  36,  22,   2,  70,  71,   3,  15,   6,   8,  23,   3,   1,\n",
              "        72,  73,  10,  37,  16,  74,  75,  24,  76,   4,  77,   6,  38,\n",
              "        23,   5,  14,  39,  36,  78,  10,  79,  80,  81,  82,   2,  25,\n",
              "         3,  83,  40,  84,  85,  86,  87,   4,  88,   2,  89,   9,   1,\n",
              "        90,   3,   6,  91,  92,  93,   5,  12,  94,  95,  96,  97,  98,\n",
              "        99,   5,   8, 100,   7,  17, 101, 102,   1,  18,   7, 103,   1,\n",
              "        41,   7,  42,   1, 104,   7, 105,   9,   1, 106,   7, 107, 108,\n",
              "         1,  43,   7, 109,  44,   2,  25, 110,  19,   6,   8, 111,   2,\n",
              "       112,   2, 113,   3, 114,  45,   2, 115,  45, 116,  46,  26,   3,\n",
              "         1, 117, 118,  47,  27, 119, 120,  26,   3, 121,   2, 122, 123,\n",
              "         5,  48,   6, 124, 125, 126,   5,  14,  39,   9, 127, 128,  48,\n",
              "        24,   2, 129, 130,   6,  14, 131, 132,   3,  15,   2,  49,   6,\n",
              "        50,   9, 133, 134,   6, 135,  13,  11, 136,  51,  12, 137,  13,\n",
              "       138,  19, 139,   3, 140,   2, 141, 142,   3,  15, 143,   5,   8,\n",
              "       144,   2,  24,  52,   4, 145,  53, 146,   5,  14,   1, 147,   4,\n",
              "       148,  13,   6,   8,  27,  54,  55,   4, 149,   1, 150,  15, 151,\n",
              "       152,   3,   5,  10, 153,   1, 154, 155, 156, 157,  43,   2,  25,\n",
              "       158, 159, 160,  10,  13, 161,   3,  23, 162,   8,  55,   4,  56,\n",
              "        11, 163,   9,   1,  57,   3,  37,  16,   7, 164,  20,  58, 165,\n",
              "        28, 166,   2, 167,  58,  12,   5, 168,  13, 169,   6, 170,  13,\n",
              "        59,  18,   2, 171,  53, 172,  13,   4, 173,  29,  60,   2, 174,\n",
              "         1, 175,  61,  22, 176,   4, 177,  17, 178, 179,   5, 180,  62,\n",
              "         1,  41,   7,  42,   2,   1, 181,   7,  30,  10, 182, 183,  17,\n",
              "        11, 184,   3,   5, 185, 186,  59, 187, 188,  26,  17, 189, 190,\n",
              "        63,   4,   5,   1,  52,   4,  31,   2, 191,   1,  32, 192,   8,\n",
              "       193,  64,  28,  64,  12, 194, 195,  63,   9, 196,   4,  31,   5,\n",
              "         7,  21, 197, 198, 199, 200, 201,   4,  65, 202,  62, 203,   1,\n",
              "        61,  22, 204,   8,   4,  65, 205,  44,  19, 206, 207, 208,   3,\n",
              "       209,  14, 210, 211,   9, 212, 213,   6,  33,  56, 214, 215, 216,\n",
              "         2,  27, 217,  11, 218,   9,  60,  34,  11, 219, 220, 221, 222,\n",
              "        18,  21,  66, 223, 224,  28,  19, 225, 226,  38,   6,  35,  11,\n",
              "        67,   3,  18, 227,   1, 228,  30,   3, 229, 230,   2, 231, 232,\n",
              "        11,  67,   3, 233,  12, 234,   1, 235,  51,  40,   9, 236,  35,\n",
              "       237, 238,  12,  35, 239, 240,   2, 241,   3, 242,  46,   7,  47,\n",
              "       243, 244,  30,   3,   1, 245, 246,   7,  33, 247,   4, 248, 249,\n",
              "         2, 250,   7,  21, 251,   9, 252, 253, 254,  11, 255,  10,   1,\n",
              "        32,  68,   4, 256,   9, 257,   5,  14,  11,  54, 258, 259,  12,\n",
              "         8, 260,  10,   1,  57,   3,  16,  34,  69,   6,   8, 261,  10,\n",
              "        15,   4, 262,  29,   6,   8,  20, 263,   4,  31,   6,  10,  20,\n",
              "       264, 265,   7,  21, 266,   1, 267, 268,   2, 269,  20, 270,   4,\n",
              "       271,   1,  32,  68,  29,  16,  33,  50,  66,  49,  34,  69])"
            ]
          },
          "metadata": {
            "tags": []
          },
          "execution_count": 61
        }
      ]
    },
    {
      "cell_type": "code",
      "metadata": {
        "id": "NxzqOrmKSoWl"
      },
      "source": [
        "Y = to_categorical(Y, num_classes=vocab_size)"
      ],
      "execution_count": 62,
      "outputs": []
    },
    {
      "cell_type": "code",
      "metadata": {
        "colab": {
          "base_uri": "https://localhost:8080/"
        },
        "id": "m_cFM47iSsiV",
        "outputId": "d2f59b77-54af-4b33-84c7-55ae0a4725d5"
      },
      "source": [
        "Y"
      ],
      "execution_count": 63,
      "outputs": [
        {
          "output_type": "execute_result",
          "data": {
            "text/plain": [
              "array([[0., 0., 0., ..., 0., 0., 0.],\n",
              "       [0., 0., 0., ..., 0., 0., 0.],\n",
              "       [0., 0., 0., ..., 0., 0., 0.],\n",
              "       ...,\n",
              "       [0., 0., 0., ..., 0., 0., 0.],\n",
              "       [0., 0., 0., ..., 0., 0., 0.],\n",
              "       [0., 0., 0., ..., 0., 0., 0.]], dtype=float32)"
            ]
          },
          "metadata": {
            "tags": []
          },
          "execution_count": 63
        }
      ]
    },
    {
      "cell_type": "code",
      "metadata": {
        "colab": {
          "base_uri": "https://localhost:8080/"
        },
        "id": "thgpSrW3Ss8W",
        "outputId": "6f2cb8b7-003d-4cea-c402-de1a041313a3"
      },
      "source": [
        "Y"
      ],
      "execution_count": 64,
      "outputs": [
        {
          "output_type": "execute_result",
          "data": {
            "text/plain": [
              "array([[0., 0., 0., ..., 0., 0., 0.],\n",
              "       [0., 0., 0., ..., 0., 0., 0.],\n",
              "       [0., 0., 0., ..., 0., 0., 0.],\n",
              "       ...,\n",
              "       [0., 0., 0., ..., 0., 0., 0.],\n",
              "       [0., 0., 0., ..., 0., 0., 0.],\n",
              "       [0., 0., 0., ..., 0., 0., 0.]], dtype=float32)"
            ]
          },
          "metadata": {
            "tags": []
          },
          "execution_count": 64
        }
      ]
    },
    {
      "cell_type": "markdown",
      "metadata": {
        "id": "Hy6T5fiqTC4G"
      },
      "source": [
        "#**Model**"
      ]
    },
    {
      "cell_type": "code",
      "metadata": {
        "id": "RTK-GsFsTEvo"
      },
      "source": [
        "from tensorflow.keras.models import Sequential\n",
        "from tensorflow.keras.layers import LSTM, Dense, Embedding"
      ],
      "execution_count": 65,
      "outputs": []
    },
    {
      "cell_type": "code",
      "metadata": {
        "id": "jL8U3Sn2SwPI"
      },
      "source": [
        "model = Sequential()\n",
        "model.add(Embedding(vocab_size, 10, input_length=1))\n",
        "model.add(LSTM(1000, return_sequences=True))\n",
        "model.add(LSTM(512))\n",
        "model.add(Dense(256, activation=\"relu\"))\n",
        "model.add(Dense(vocab_size, activation=\"softmax\"))"
      ],
      "execution_count": 66,
      "outputs": []
    },
    {
      "cell_type": "code",
      "metadata": {
        "colab": {
          "base_uri": "https://localhost:8080/"
        },
        "id": "ZLJXTg_RTnG2",
        "outputId": "ce71acd0-a090-4450-c031-36005ba4e35e"
      },
      "source": [
        "model.summary()"
      ],
      "execution_count": 67,
      "outputs": [
        {
          "output_type": "stream",
          "text": [
            "Model: \"sequential_1\"\n",
            "_________________________________________________________________\n",
            "Layer (type)                 Output Shape              Param #   \n",
            "=================================================================\n",
            "embedding_1 (Embedding)      (None, 1, 10)             2720      \n",
            "_________________________________________________________________\n",
            "lstm_2 (LSTM)                (None, 1, 1000)           4044000   \n",
            "_________________________________________________________________\n",
            "lstm_3 (LSTM)                (None, 512)               3098624   \n",
            "_________________________________________________________________\n",
            "dense_2 (Dense)              (None, 256)               131328    \n",
            "_________________________________________________________________\n",
            "dense_3 (Dense)              (None, 272)               69904     \n",
            "=================================================================\n",
            "Total params: 7,346,576\n",
            "Trainable params: 7,346,576\n",
            "Non-trainable params: 0\n",
            "_________________________________________________________________\n"
          ],
          "name": "stdout"
        }
      ]
    },
    {
      "cell_type": "markdown",
      "metadata": {
        "id": "SHDnRTQWTyXm"
      },
      "source": [
        "Reduce learning rate when a metric has stopped improving."
      ]
    },
    {
      "cell_type": "markdown",
      "metadata": {
        "id": "NiXbOgkvT5y8"
      },
      "source": [
        "#**ModelCheckpoint**\n",
        "This callback is used for storing the weights of our model after training. We save only the best weights of our model by specifying save_best_only=True. We will monitor our training by using the loss metric.\n",
        "#**ReduceLROnPlateau**\n",
        "This callback is used for reducing the learning rate of the optimizer after a specified number of epochs. Here, we have specified the patience as 3. If the accuracy does not improve after 3 epochs, then our learning rate is reduced accordingly by a factor of 0.2. The metric used for monitoring here is loss as well.\n",
        "#**Tensorboard** \n",
        "The tensorboard callback is used for plotting the visualization of the graphs, namely the graph plots for accuracy and the loss. Here, we will only be looking at the loss graph of the next word prediction."
      ]
    },
    {
      "cell_type": "code",
      "metadata": {
        "id": "xA-FrfzFTo7v"
      },
      "source": [
        "from tensorflow.keras.callbacks import ModelCheckpoint\n",
        "from tensorflow.keras.callbacks import ReduceLROnPlateau\n",
        "from tensorflow.keras.callbacks import TensorBoard\n",
        "\n",
        "checkpoint = ModelCheckpoint(\"nextword.h5\", monitor='loss', verbose=1,\n",
        "    save_best_only=True, mode='auto')\n",
        "\n",
        "reduce = ReduceLROnPlateau(monitor='loss', factor=0.2, patience=3, min_lr=0.0001, verbose = 1)\n",
        "\n",
        "logdir='logsnextword1'\n",
        "tensorboard_Visualization = TensorBoard(log_dir=logdir)"
      ],
      "execution_count": 68,
      "outputs": []
    },
    {
      "cell_type": "code",
      "metadata": {
        "id": "ANKHOZkRTz39"
      },
      "source": [
        "from tensorflow.keras.optimizers import Adam\n",
        "model.compile(loss=\"categorical_crossentropy\", optimizer=Adam(lr=0.001), metrics=['accuracy'])"
      ],
      "execution_count": 69,
      "outputs": []
    },
    {
      "cell_type": "code",
      "metadata": {
        "colab": {
          "base_uri": "https://localhost:8080/"
        },
        "id": "Q9p11-UrUQbx",
        "outputId": "08e22988-86c4-43c4-98f8-6c7313f0d925"
      },
      "source": [
        "print(\"Shape of Input Data:\", X.shape)\n",
        "print(\"Shape of Output Data:\",Y.shape)"
      ],
      "execution_count": 70,
      "outputs": [
        {
          "output_type": "stream",
          "text": [
            "Shape of Input Data: (532,)\n",
            "Shape of Output Data: (532, 272)\n"
          ],
          "name": "stdout"
        }
      ]
    },
    {
      "cell_type": "code",
      "metadata": {
        "id": "mRihyN6BUEh6"
      },
      "source": [
        "history = model.fit(X, Y, epochs=500, batch_size=12, callbacks=[checkpoint, reduce, tensorboard_Visualization])\n"
      ],
      "execution_count": null,
      "outputs": []
    },
    {
      "cell_type": "markdown",
      "metadata": {
        "id": "KuPT_oUkw2tf"
      },
      "source": [
        "#**Predictions Time**"
      ]
    },
    {
      "cell_type": "code",
      "metadata": {
        "id": "zJSkDol4Uf9n"
      },
      "source": [
        "def generate_seq(model, tokenizer, enter_text, n_pred):\n",
        "  in_text, result = enter_text, enter_text\n",
        "  for _ in range(n_pred):\n",
        "    encoded = tokenizer.texts_to_sequences([in_text])[0]\n",
        "    encoded = np.array(encoded)\n",
        "    yhat = model.predict_classes(encoded)\n",
        "    out_word = ''\n",
        "    for word, index in tokenizer.word_index.items():\n",
        "      if index == yhat:\n",
        "        out_word = word\n",
        "        break\n",
        "    in_text, result = out_word, result + ' '+ out_word\n",
        "  return result"
      ],
      "execution_count": 72,
      "outputs": []
    },
    {
      "cell_type": "code",
      "metadata": {
        "colab": {
          "base_uri": "https://localhost:8080/",
          "height": 90
        },
        "id": "XbDzLX4Zx_xg",
        "outputId": "89f94a1e-59e1-43e1-a8d7-0dac1a9cc30f"
      },
      "source": [
        "generate_seq(model, tokenizer, \"Nature\", 15)"
      ],
      "execution_count": 73,
      "outputs": [
        {
          "output_type": "stream",
          "text": [
            "/usr/local/lib/python3.6/dist-packages/tensorflow/python/keras/engine/sequential.py:450: UserWarning: `model.predict_classes()` is deprecated and will be removed after 2021-01-01. Please use instead:* `np.argmax(model.predict(x), axis=-1)`,   if your model does multi-class classification   (e.g. if it uses a `softmax` last-layer activation).* `(model.predict(x) > 0.5).astype(\"int32\")`,   if your model does binary classification   (e.g. if it uses a `sigmoid` last-layer activation).\n",
            "  warnings.warn('`model.predict_classes()` is deprecated and '\n"
          ],
          "name": "stderr"
        },
        {
          "output_type": "execute_result",
          "data": {
            "application/vnd.google.colaboratory.intrinsic+json": {
              "type": "string"
            },
            "text/plain": [
              "'Nature has been an inspiration for the natural resources so rainfall on earth it is one'"
            ]
          },
          "metadata": {
            "tags": []
          },
          "execution_count": 73
        }
      ]
    },
    {
      "cell_type": "code",
      "metadata": {
        "id": "AkFwtiWgyGYt"
      },
      "source": [
        ""
      ],
      "execution_count": null,
      "outputs": []
    }
  ]
}